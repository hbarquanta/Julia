{
 "cells": [
  {
   "cell_type": "markdown",
   "id": "078a8b85-7546-4a17-9861-a20e612c67b6",
   "metadata": {},
   "source": [
    "# Introduction to Julia\n",
    "\n",
    "## Overview of Julia\n",
    "Julia is a high-level, high-performance programming language for technical computing. It combines the ease of use of Python with the speed of C. Julia is designed for numerical and scientific computing, making it a popular choice in data science, machine learning, and computational science.\n",
    "\n",
    "## History and Purpose\n",
    "Julia was created by Jeff Bezanson, Stefan Karpinski, Viral B. Shah, and Alan Edelman, and was first released in 2012. The creators aimed to develop a language that was both fast and easy to use, addressing the \"two-language problem\" where developers prototype in a high-level language like Python, but rewrite the performance-critical parts in C or Fortran.\n",
    "\n",
    "## Installation\n",
    "To install Julia, follow these steps:\n",
    "\n",
    "1. Go to the [official Julia website](https://julialang.org/downloads/).\n",
    "2. Download the installer for your operating system.\n",
    "3. Run the installer and follow the instructions.\n",
    "\n",
    "After installation, you can verify the installation by running the following command in your terminal or command prompt:\n",
    "\n",
    "```julia\n",
    "julia -v\n",
    "```\n",
    "\n",
    "This should display the installed version of Julia.\n",
    "\n",
    "## Basic Julia Syntax and Operations\n",
    "Julia syntax is clean and familiar to users of other technical computing environments. Below are some basic operations:\n",
    "\n",
    "### Arithmetic Operations\n",
    "```julia\n",
    "1 + 1    # Addition\n",
    "2 - 1    # Subtraction\n",
    "2 * 3    # Multiplication\n",
    "6 / 3    # Division\n",
    "2 ^ 3    # Exponentiation\n",
    "```\n",
    "\n",
    "### Variables and Assignment\n",
    "```julia\n",
    "a = 10\n",
    "b = 20\n",
    "c = a + b\n",
    "println(c)  # Output: 30\n",
    "```\n",
    "\n",
    "### Data Types\n",
    "```julia\n",
    "x = 1       # Integer\n",
    "y = 1.0     # Float\n",
    "name = \"Julia\"  # String\n",
    "flag = true  # Boolean\n",
    "```\n",
    "\n",
    "## First Julia Program\n",
    "Let's write a simple program to print \"Hello, World!\".\n",
    "\n",
    "```julia\n",
    "println(\"Hello, World!\")\n",
    "```\n",
    "\n",
    "## Using Julia REPL and Jupyter Notebooks\n",
    "### Julia REPL\n",
    "The Julia REPL (Read-Eval-Print Loop) is an interactive command-line interface for running Julia commands.\n",
    "\n",
    "To start the Julia REPL, simply open your terminal or command prompt and type `julia`.\n",
    "\n",
    "### Jupyter Notebooks\n",
    "Jupyter notebooks provide an interactive environment for running Julia code. To use Julia with Jupyter notebooks, you need to install the IJulia package.\n",
    "\n",
    "First, open the Julia REPL and run:\n",
    "```julia\n",
    "using Pkg\n",
    "Pkg.add(\"IJulia\")\n",
    "```\n",
    "\n",
    "Then, you can start a Jupyter notebook server by running:\n",
    "```julia\n",
    "using IJulia\n",
    "notebook()\n",
    "```\n",
    "\n",
    "This will open a new tab in your web browser where you can create and manage Jupyter notebooks.\n",
    "\n",
    "\n",
    "## Exercises\n",
    "Try these exercises to reinforce your understanding:\n",
    "1. Install Julia and verify the installation.\n",
    "2. Write a Julia program that calculates and prints the sum of two numbers.\n",
    "3. Create a Jupyter notebook and run a simple Julia command in it.\n",
    "\n"
   ]
  },
  {
   "cell_type": "markdown",
   "id": "ff550932-52ab-4af4-b955-b7865c6221c3",
   "metadata": {},
   "source": [
    "# Basic Data Types and Operations\n",
    "\n",
    "## Scalars, Strings, and Boolean Types\n",
    "Julia supports various basic data types including integers, floating-point numbers, strings, and booleans.\n",
    "\n",
    "### Integer and Floating-Point Numbers"
   ]
  },
  {
   "cell_type": "code",
   "execution_count": 13,
   "id": "bd8c8e60-85c3-4bfe-9e87-5f139e26f837",
   "metadata": {},
   "outputs": [
    {
     "name": "stdout",
     "output_type": "stream",
     "text": [
      "Sum: 13.14\n",
      "Difference: -4.999\n",
      "Product: -50\n",
      "Quotient: 0.314\n"
     ]
    }
   ],
   "source": [
    "# Integers\n",
    "a = 10\n",
    "b = -5\n",
    "\n",
    "# Floating-point numbers\n",
    "c = 3.14\n",
    "d = -0.001\n",
    "\n",
    "# Basic operations\n",
    "sum = a + c\n",
    "difference = b - d\n",
    "product = a * b\n",
    "quotient = c / a\n",
    "\n",
    "println(\"Sum: \", sum)\n",
    "println(\"Difference: \", difference)\n",
    "println(\"Product: \", product)\n",
    "println(\"Quotient: \", quotient)"
   ]
  },
  {
   "cell_type": "markdown",
   "id": "3a378b35-0055-47ea-840b-e4937b36e0db",
   "metadata": {},
   "source": [
    "### Strings"
   ]
  },
  {
   "cell_type": "code",
   "execution_count": 18,
   "id": "84aa5c51-e1fa-4e71-9624-fb364dec8086",
   "metadata": {
    "jp-MarkdownHeadingCollapsed": true,
    "tags": []
   },
   "outputs": [
    {
     "name": "stdout",
     "output_type": "stream",
     "text": [
      "Hello, Julia!\n",
      "Julia is 10 years old.\n"
     ]
    }
   ],
   "source": [
    "\n",
    "# Defining strings\n",
    "name = \"Julia\"\n",
    "greeting = \"Hello, \" * name * \"!\"\n",
    "\n",
    "# String interpolation\n",
    "age = 10\n",
    "info = \"Julia is $age years old.\"\n",
    "\n",
    "println(greeting)\n",
    "println(info)\n"
   ]
  },
  {
   "cell_type": "markdown",
   "id": "6244aa16-58c7-48ed-ad9a-f47370f93beb",
   "metadata": {
    "tags": []
   },
   "source": [
    "### Boolean Types"
   ]
  },
  {
   "cell_type": "code",
   "execution_count": 22,
   "id": "a96c4e05-e734-428c-9878-98ddf2cee830",
   "metadata": {
    "tags": []
   },
   "outputs": [
    {
     "name": "stdout",
     "output_type": "stream",
     "text": [
      "AND result: false\n",
      "OR result: true\n",
      "NOT result: false\n"
     ]
    }
   ],
   "source": [
    "\n",
    "# Boolean values\n",
    "flag1 = true\n",
    "flag2 = false\n",
    "\n",
    "# Logical operations\n",
    "and_result = flag1 && flag2\n",
    "or_result = flag1 || flag2\n",
    "not_result = !flag1\n",
    "\n",
    "println(\"AND result: \", and_result)\n",
    "println(\"OR result: \", or_result)\n",
    "println(\"NOT result: \", not_result)\n"
   ]
  },
  {
   "cell_type": "markdown",
   "id": "d8346e7c-5ec0-4a5f-970e-f4867544e20a",
   "metadata": {
    "tags": []
   },
   "source": [
    "## Arrays and Tuples\n",
    "Arrays and tuples are used to store collections of values.\n",
    "\n",
    "### Arrays"
   ]
  },
  {
   "cell_type": "code",
   "execution_count": 24,
   "id": "8e20a9d5-12d6-4a32-a541-62df743620be",
   "metadata": {
    "jp-MarkdownHeadingCollapsed": true,
    "tags": []
   },
   "outputs": [
    {
     "name": "stdout",
     "output_type": "stream",
     "text": [
      "Numbers: [1, 2, 3, 4, 5]\n",
      "First number: 1\n",
      "Second name: Bob\n"
     ]
    }
   ],
   "source": [
    "\n",
    "# Defining arrays\n",
    "numbers = [1, 2, 3, 4, 5]\n",
    "names = [\"Alice\", \"Bob\", \"Charlie\"]\n",
    "\n",
    "# Accessing elements\n",
    "first_number = numbers[1]\n",
    "second_name = names[2]\n",
    "\n",
    "# Array operations\n",
    "push!(numbers, 6)\n",
    "pop!(numbers)\n",
    "\n",
    "println(\"Numbers: \", numbers)\n",
    "println(\"First number: \", first_number)\n",
    "println(\"Second name: \", second_name)\n"
   ]
  },
  {
   "cell_type": "markdown",
   "id": "5cb8c8af-e900-4c9a-bdda-aeea59f11c05",
   "metadata": {
    "tags": []
   },
   "source": [
    "### Tuples"
   ]
  },
  {
   "cell_type": "code",
   "execution_count": 30,
   "id": "58dcb1ff-f657-46eb-97e7-1a3e056353c7",
   "metadata": {
    "jp-MarkdownHeadingCollapsed": true,
    "tags": []
   },
   "outputs": [
    {
     "name": "stdout",
     "output_type": "stream",
     "text": [
      "Coordinates: (10, 20)\n",
      "Person: (\"Alice\", 30)\n",
      "name: Alice\n"
     ]
    }
   ],
   "source": [
    "\n",
    "# Defining tuples\n",
    "coordinates = (10, 20)\n",
    "person = (\"Alice\", 30)\n",
    "\n",
    "# Accessing elements\n",
    "x = coordinates[1]\n",
    "name = person[1]\n",
    "\n",
    "println(\"Coordinates: \", coordinates)\n",
    "println(\"Person: \", person)\n",
    "println(\"name: \",name)"
   ]
  },
  {
   "cell_type": "markdown",
   "id": "4f98426b-2561-44ba-a318-fda84af862c9",
   "metadata": {
    "tags": []
   },
   "source": [
    "## Dictionaries and Sets\n",
    "Dictionaries and sets are useful for storing unique values and key-value pairs.\n",
    "\n",
    "### Dictionaries"
   ]
  },
  {
   "cell_type": "code",
   "execution_count": 32,
   "id": "2a75e22a-785d-4543-9883-95379de15bc4",
   "metadata": {
    "tags": []
   },
   "outputs": [
    {
     "name": "stdout",
     "output_type": "stream",
     "text": [
      "Ages: Dict(\"Alice\" => 25, \"Charlie\" => 35)\n",
      "Alice's age: 25\n"
     ]
    }
   ],
   "source": [
    "\n",
    "# Defining a dictionary\n",
    "ages = Dict(\"Alice\" => 25, \"Bob\" => 30)\n",
    "\n",
    "# Accessing values\n",
    "alice_age = ages[\"Alice\"]\n",
    "\n",
    "# Adding and removing entries\n",
    "ages[\"Charlie\"] = 35\n",
    "delete!(ages, \"Bob\")\n",
    "\n",
    "println(\"Ages: \", ages)\n",
    "println(\"Alice's age: \", alice_age)\n"
   ]
  },
  {
   "cell_type": "markdown",
   "id": "8efd5c0d-282b-4b11-b4cd-3383f500d1ad",
   "metadata": {
    "tags": []
   },
   "source": [
    "### Sets"
   ]
  },
  {
   "cell_type": "code",
   "execution_count": 34,
   "id": "d3954bdb-1c86-405a-8e92-d4a17a3e949f",
   "metadata": {
    "tags": []
   },
   "outputs": [
    {
     "name": "stdout",
     "output_type": "stream",
     "text": [
      "Unique numbers: Set([4, 3, 1])\n"
     ]
    }
   ],
   "source": [
    "\n",
    "# Defining a set\n",
    "unique_numbers = Set([1, 2, 3, 2, 1])\n",
    "\n",
    "# Adding and removing elements\n",
    "push!(unique_numbers, 4)\n",
    "delete!(unique_numbers, 2)\n",
    "\n",
    "println(\"Unique numbers: \", unique_numbers)\n"
   ]
  },
  {
   "cell_type": "markdown",
   "id": "72efd354-673d-420b-93d2-7dadf439e963",
   "metadata": {
    "tags": []
   },
   "source": [
    "## Basic Operations\n",
    "### Arithmetic Operations"
   ]
  },
  {
   "cell_type": "code",
   "execution_count": 36,
   "id": "404b7188-6257-4841-8e87-6cd7e86f6488",
   "metadata": {
    "tags": []
   },
   "outputs": [
    {
     "name": "stdout",
     "output_type": "stream",
     "text": [
      "Addition: 13\n",
      "Subtraction: 7\n",
      "Multiplication: 30\n",
      "Division: 3.3333333333333335\n"
     ]
    }
   ],
   "source": [
    "\n",
    "# Addition, subtraction, multiplication, and division\n",
    "x = 10\n",
    "y = 3\n",
    "addition = x + y\n",
    "subtraction = x - y\n",
    "multiplication = x * y\n",
    "division = x / y\n",
    "\n",
    "println(\"Addition: \", addition)\n",
    "println(\"Subtraction: \", subtraction)\n",
    "println(\"Multiplication: \", multiplication)\n",
    "println(\"Division: \", division)\n"
   ]
  },
  {
   "cell_type": "markdown",
   "id": "d27d80c2-88cc-4b8f-9531-7a44c8e3bd00",
   "metadata": {
    "tags": []
   },
   "source": [
    "### Comparison Operations"
   ]
  },
  {
   "cell_type": "code",
   "execution_count": 38,
   "id": "d475d380-6908-4456-b56e-4120358c1bf2",
   "metadata": {
    "tags": []
   },
   "outputs": [
    {
     "name": "stdout",
     "output_type": "stream",
     "text": [
      "a < b: true\n",
      "a <= b: true\n",
      "a == b: false\n",
      "a >= b: false\n",
      "a > b: false\n"
     ]
    }
   ],
   "source": [
    "\n",
    "# Comparison operations\n",
    "a = 10\n",
    "b = 20\n",
    "\n",
    "println(\"a < b: \", a < b)\n",
    "println(\"a <= b: \", a <= b)\n",
    "println(\"a == b: \", a == b)\n",
    "println(\"a >= b: \", a >= b)\n",
    "println(\"a > b: \", a > b)\n"
   ]
  },
  {
   "cell_type": "markdown",
   "id": "a2c5fd43-6299-4eb4-a2a7-2e197d0a8e25",
   "metadata": {
    "tags": []
   },
   "source": [
    "### Logical Operations"
   ]
  },
  {
   "cell_type": "code",
   "execution_count": 40,
   "id": "89cb573a-e259-44ea-aedb-153b924dfe14",
   "metadata": {
    "jp-MarkdownHeadingCollapsed": true,
    "tags": []
   },
   "outputs": [
    {
     "name": "stdout",
     "output_type": "stream",
     "text": [
      "flag1 && flag2: false\n",
      "flag1 || flag2: true\n",
      "!flag1: false\n"
     ]
    }
   ],
   "source": [
    "\n",
    "# Logical operations\n",
    "flag1 = true\n",
    "flag2 = false\n",
    "\n",
    "println(\"flag1 && flag2: \", flag1 && flag2)\n",
    "println(\"flag1 || flag2: \", flag1 || flag2)\n",
    "println(\"!flag1: \", !flag1)\n"
   ]
  },
  {
   "cell_type": "markdown",
   "id": "837aa834-b08f-45c8-ab04-8c295a6076cf",
   "metadata": {
    "tags": []
   },
   "source": [
    "## Working with Strings\n",
    "### String Operations"
   ]
  },
  {
   "cell_type": "code",
   "execution_count": 42,
   "id": "74116aec-a521-42a5-9cfe-8c8931046ffc",
   "metadata": {
    "tags": []
   },
   "outputs": [
    {
     "name": "stdout",
     "output_type": "stream",
     "text": [
      "Greeting: Hello, World!\n",
      "Length of greeting: 13\n",
      "Substring: Hello\n"
     ]
    }
   ],
   "source": [
    "\n",
    "# Concatenation\n",
    "str1 = \"Hello\"\n",
    "str2 = \"World\"\n",
    "greeting = str1 * \", \" * str2 * \"!\"\n",
    "\n",
    "# Length of a string\n",
    "length_of_greeting = length(greeting)\n",
    "\n",
    "# Substring\n",
    "substring = greeting[1:5]\n",
    "\n",
    "println(\"Greeting: \", greeting)\n",
    "println(\"Length of greeting: \", length_of_greeting)\n",
    "println(\"Substring: \", substring)\n"
   ]
  },
  {
   "cell_type": "markdown",
   "id": "03903e29-3c48-4d50-b9f2-15be7f1c93d0",
   "metadata": {
    "tags": []
   },
   "source": [
    "## Type Conversion and Checking\n",
    "### Type Conversion"
   ]
  },
  {
   "cell_type": "code",
   "execution_count": 44,
   "id": "eef1355d-e86c-4b58-bef7-ca88e87e161a",
   "metadata": {
    "jp-MarkdownHeadingCollapsed": true,
    "tags": []
   },
   "outputs": [
    {
     "name": "stdout",
     "output_type": "stream",
     "text": [
      "String to Int: 123\n",
      "Float to Int: 3\n"
     ]
    }
   ],
   "source": [
    "\n",
    "# Converting between types\n",
    "num_str = \"123\"\n",
    "num = parse(Int, num_str)\n",
    "\n",
    "float_num = 3.14\n",
    "int_num = round(Int, float_num)\n",
    "\n",
    "println(\"String to Int: \", num)\n",
    "println(\"Float to Int: \", int_num)\n"
   ]
  },
  {
   "cell_type": "markdown",
   "id": "04e8cef4-2391-46c9-bcdf-850d1b0569ff",
   "metadata": {
    "tags": []
   },
   "source": [
    "### Type Checking"
   ]
  },
  {
   "cell_type": "code",
   "execution_count": 46,
   "id": "ccb4cfe0-2b88-420b-915c-5802d50519cb",
   "metadata": {
    "jp-MarkdownHeadingCollapsed": true,
    "tags": []
   },
   "outputs": [
    {
     "name": "stdout",
     "output_type": "stream",
     "text": [
      "Type of x: Int64\n",
      "Type of y: Float64\n",
      "Type of z: String\n"
     ]
    }
   ],
   "source": [
    "\n",
    "# Checking types\n",
    "x = 10\n",
    "y = 3.14\n",
    "z = \"Hello\"\n",
    "\n",
    "println(\"Type of x: \", typeof(x))\n",
    "println(\"Type of y: \", typeof(y))\n",
    "println(\"Type of z: \", typeof(z))\n"
   ]
  },
  {
   "cell_type": "markdown",
   "id": "8bdf21af-583c-402b-aaac-5ff761704592",
   "metadata": {
    "tags": []
   },
   "source": [
    "## Conclusion\n",
    "In this chapter, we covered:\n",
    "- Basic data types: integers, floating-point numbers, strings, and booleans.\n",
    "- Collections: arrays, tuples, dictionaries, and sets.\n",
    "- Basic operations: arithmetic, comparison, and logical operations.\n",
    "- Working with strings.\n",
    "- Type conversion and checking.\n",
    "\n",
    "Next, we will explore control flow in Julia.\n",
    "\n",
    "## Exercises\n",
    "Try these exercises to reinforce your understanding:\n",
    "1. Create an array of your favorite numbers and perform basic operations on it.\n",
    "2. Define a dictionary with the names and ages of your friends, and practice adding and removing entries.\n",
    "3. Write a function that takes a string and returns the number of vowels in it.\n"
   ]
  },
  {
   "cell_type": "markdown",
   "id": "e5377d25-99df-45e0-b8d0-6ec0d18224bb",
   "metadata": {},
   "source": [
    "# Control Flow\n",
    "\n",
    "## Conditional Statements\n",
    "Conditional statements allow you to execute code blocks based on certain conditions.\n",
    "\n",
    "### if, else, elseif"
   ]
  },
  {
   "cell_type": "code",
   "execution_count": 50,
   "id": "b0b49c6d-746e-425d-bcb3-51d629f503c3",
   "metadata": {},
   "outputs": [
    {
     "name": "stdout",
     "output_type": "stream",
     "text": [
      "x is greater than 5\n",
      "y is between 5 and 10\n"
     ]
    }
   ],
   "source": [
    "\n",
    "# Example of if-else statement\n",
    "x = 10\n",
    "\n",
    "# If x is greater than 5, execute this block\n",
    "if x > 5\n",
    "    println(\"x is greater than 5\")\n",
    "# Otherwise, execute this block\n",
    "else\n",
    "    println(\"x is not greater than 5\")\n",
    "end\n",
    "\n",
    "# Example of if-elseif-else statement\n",
    "y = 7\n",
    "\n",
    "# Check if y is greater than 10\n",
    "if y > 10\n",
    "    println(\"y is greater than 10\")\n",
    "# Check if y is between 5 and 10\n",
    "elseif y > 5\n",
    "    println(\"y is between 5 and 10\")\n",
    "# If none of the above conditions are met, execute this block\n",
    "else\n",
    "    println(\"y is 5 or less\")\n",
    "end\n"
   ]
  },
  {
   "cell_type": "markdown",
   "id": "bd92c954-ccbb-42b3-a54e-b4a66103832e",
   "metadata": {},
   "source": [
    "## Loops\n",
    "Loops allow you to execute a block of code multiple times.\n",
    "\n",
    "### for Loop\n",
    "The `for` loop is used to iterate over a range or collection."
   ]
  },
  {
   "cell_type": "code",
   "execution_count": 52,
   "id": "fb3dedd8-7532-423d-8d4b-4b022d94dd7f",
   "metadata": {},
   "outputs": [
    {
     "name": "stdout",
     "output_type": "stream",
     "text": [
      "Iteration number: 1\n",
      "Iteration number: 2\n",
      "Iteration number: 3\n",
      "Iteration number: 4\n",
      "Iteration number: 5\n",
      "I like apple\n",
      "I like banana\n",
      "I like cherry\n"
     ]
    }
   ],
   "source": [
    "\n",
    "# Using for loop to iterate over a range\n",
    "for i in 1:5\n",
    "    println(\"Iteration number: $i\")\n",
    "end\n",
    "\n",
    "# Using for loop to iterate over an array\n",
    "fruits = [\"apple\", \"banana\", \"cherry\"]\n",
    "for fruit in fruits\n",
    "    println(\"I like $fruit\")\n",
    "end\n"
   ]
  },
  {
   "cell_type": "markdown",
   "id": "63a25a87-d823-409a-a9c1-fda64cccbd4b",
   "metadata": {},
   "source": [
    "### while Loop\n",
    "The `while` loop executes as long as a specified condition is true."
   ]
  },
  {
   "cell_type": "code",
   "execution_count": 54,
   "id": "dfa9707b-1f41-42c8-bcb6-a26d64ca3e06",
   "metadata": {},
   "outputs": [
    {
     "name": "stdout",
     "output_type": "stream",
     "text": [
      "Count is: 1\n",
      "Count is: 2\n",
      "Count is: 3\n",
      "Count is: 4\n",
      "Count is: 5\n"
     ]
    }
   ],
   "source": [
    "\n",
    "# Initialize a counter\n",
    "count = 1\n",
    "\n",
    "# Loop while the counter is less than or equal to 5\n",
    "while count <= 5\n",
    "    println(\"Count is: $count\")\n",
    "    count += 1  # Increment the counter\n",
    "end\n"
   ]
  },
  {
   "cell_type": "markdown",
   "id": "c649d9fb-adfa-4ad0-a7f7-c024b1ea7a8b",
   "metadata": {},
   "source": [
    "## Control Flow Keywords\n",
    "### break\n",
    "The `break` keyword exits the innermost loop immediately."
   ]
  },
  {
   "cell_type": "code",
   "execution_count": 56,
   "id": "842bf488-b915-46ea-afe2-3703fed859c7",
   "metadata": {},
   "outputs": [
    {
     "name": "stdout",
     "output_type": "stream",
     "text": [
      "1\n",
      "2\n",
      "3\n",
      "4\n",
      "Breaking the loop at i = 5\n"
     ]
    }
   ],
   "source": [
    "\n",
    "# Loop through numbers 1 to 10\n",
    "for i in 1:10\n",
    "    # Break the loop if i is 5\n",
    "    if i == 5\n",
    "        println(\"Breaking the loop at i = $i\")\n",
    "        break\n",
    "    end\n",
    "    println(i)\n",
    "end\n"
   ]
  },
  {
   "cell_type": "markdown",
   "id": "b0ae7026-da29-4b96-b807-4701dbf18514",
   "metadata": {
    "tags": []
   },
   "source": [
    "### continue\n",
    "The `continue` keyword skips the rest of the current loop iteration and moves to the next iteration."
   ]
  },
  {
   "cell_type": "code",
   "execution_count": 58,
   "id": "9a1b1cf3-2de9-425b-b9d3-57f39b37bd15",
   "metadata": {
    "jp-MarkdownHeadingCollapsed": true,
    "tags": []
   },
   "outputs": [
    {
     "name": "stdout",
     "output_type": "stream",
     "text": [
      "1\n",
      "2\n",
      "Skipping i = 3\n",
      "4\n",
      "5\n"
     ]
    }
   ],
   "source": [
    "\n",
    "# Loop through numbers 1 to 5\n",
    "for i in 1:5\n",
    "    # Skip the iteration if i is 3\n",
    "    if i == 3\n",
    "        println(\"Skipping i = $i\")\n",
    "        continue\n",
    "    end\n",
    "    println(i)\n",
    "end\n"
   ]
  },
  {
   "cell_type": "markdown",
   "id": "86f532b3-ac19-4753-816d-dfdf88ac0475",
   "metadata": {},
   "source": [
    "## Exception Handling\n",
    "Exception handling is used to handle errors gracefully in your program.\n",
    "\n",
    "### try and catch\n",
    "The `try` block lets you test a block of code for errors, while the `catch` block handles the error."
   ]
  },
  {
   "cell_type": "code",
   "execution_count": 60,
   "id": "92bf8836-6aab-4911-8b8b-51da9c6ee7e5",
   "metadata": {},
   "outputs": [
    {
     "name": "stdout",
     "output_type": "stream",
     "text": [
      "Result: Inf\n"
     ]
    }
   ],
   "source": [
    "\n",
    "# Example of try-catch\n",
    "try\n",
    "    # Code that might throw an error\n",
    "    result = 10 / 0\n",
    "    println(\"Result: $result\")\n",
    "catch e\n",
    "    # Code to handle the error\n",
    "    println(\"Caught an exception: \", e)\n",
    "end\n"
   ]
  },
  {
   "cell_type": "markdown",
   "id": "d3fd45b2-0137-4b82-8026-7db2fff8447f",
   "metadata": {
    "tags": []
   },
   "source": [
    "### finally\n",
    "The `finally` block contains code that will run no matter what, after the try and catch blocks."
   ]
  },
  {
   "cell_type": "code",
   "execution_count": 63,
   "id": "b0d94364-cd92-4595-a084-a49668683fee",
   "metadata": {
    "jp-MarkdownHeadingCollapsed": true,
    "tags": []
   },
   "outputs": [
    {
     "name": "stdout",
     "output_type": "stream",
     "text": [
      "Caught an exception: SystemError(\"opening file \\\"non_existent_file.txt\\\"\", 2, nothing)\n",
      "This is the finally block, it always executes.\n"
     ]
    }
   ],
   "source": [
    "\n",
    "# Example of try-catch-finally\n",
    "try\n",
    "    # Code that might throw an error\n",
    "    open(\"non_existent_file.txt\", \"r\")\n",
    "catch e\n",
    "    # Code to handle the error\n",
    "    println(\"Caught an exception: \", e)\n",
    "finally\n",
    "    # Code that will run no matter what\n",
    "    println(\"This is the finally block, it always executes.\")\n",
    "end\n"
   ]
  },
  {
   "cell_type": "markdown",
   "id": "7224ebc6-4970-4d39-b8b1-97df55215f31",
   "metadata": {},
   "source": [
    "## Conclusion\n",
    "In this chapter, we covered:\n",
    "- Conditional statements (`if`, `else`, `elseif`).\n",
    "- Loops (`for`, `while`).\n",
    "- Control flow keywords (`break`, `continue`).\n",
    "- Exception handling with `try`, `catch`, and `finally`.\n",
    "\n",
    "Next, we will explore functions in Julia.\n",
    "\n",
    "## Exercises\n",
    "Try these exercises to reinforce your understanding:\n",
    "1. Write a function that prints \"Even\" or \"Odd\" for numbers 1 to 10 using a `for` loop and conditional statements.\n",
    "2. Create a `while` loop that prints numbers from 1 to 10 but skips multiples of 3.\n",
    "3. Write a program that attempts to read a non-existent file and handles the exception by printing an error message.\n"
   ]
  },
  {
   "cell_type": "markdown",
   "id": "fd82eb78-17ee-4c44-a26d-3e005d5fd5ad",
   "metadata": {},
   "source": [
    "# Functions\n",
    "\n",
    "## Defining Functions\n",
    "Functions in Julia are defined using the `function` keyword or with a shorter syntax using the arrow (`->`) notation.\n",
    "\n",
    "### Using the `function` Keyword"
   ]
  },
  {
   "cell_type": "code",
   "execution_count": 66,
   "id": "f46a06a4-a4da-4786-aa16-26efd7a643f0",
   "metadata": {},
   "outputs": [
    {
     "name": "stdout",
     "output_type": "stream",
     "text": [
      "Sum: 7\n"
     ]
    }
   ],
   "source": [
    "\n",
    "# Define a function to add two numbers\n",
    "function add(x, y)\n",
    "    return x + y\n",
    "end\n",
    "\n",
    "# Call the function with arguments 3 and 4\n",
    "result = add(3, 4)\n",
    "println(\"Sum: \", result)\n"
   ]
  },
  {
   "cell_type": "markdown",
   "id": "0d6a129e-9036-4b81-9849-9092c77b93dc",
   "metadata": {},
   "source": [
    "### Using the Arrow Notation"
   ]
  },
  {
   "cell_type": "code",
   "execution_count": 68,
   "id": "c416a908-c8d7-4727-9b3b-916bbad84d1d",
   "metadata": {},
   "outputs": [
    {
     "name": "stdout",
     "output_type": "stream",
     "text": [
      "Product: 12\n"
     ]
    }
   ],
   "source": [
    "\n",
    "# Define a function to multiply two numbers using arrow notation\n",
    "multiply = (x, y) -> x * y\n",
    "\n",
    "# Call the function with arguments 3 and 4\n",
    "result = multiply(3, 4)\n",
    "println(\"Product: \", result)\n"
   ]
  },
  {
   "cell_type": "markdown",
   "id": "68f39df1-b781-4588-8758-83a47b7bd72f",
   "metadata": {},
   "source": [
    "## Function Arguments\n",
    "Functions in Julia can have various types of arguments: positional, keyword, and default arguments.\n",
    "\n",
    "### Positional Arguments"
   ]
  },
  {
   "cell_type": "code",
   "execution_count": 94,
   "id": "1026779d-e781-44f7-9607-63abba79e9a5",
   "metadata": {},
   "outputs": [
    {
     "name": "stdout",
     "output_type": "stream",
     "text": [
      "Hello, Alice !\n"
     ]
    }
   ],
   "source": [
    "\n",
    "# Define a function with positional arguments\n",
    "function greet(name)\n",
    "    println(\"Hello, $name !\")\n",
    "end\n",
    "\n",
    "# Call the function with a positional argument\n",
    "greet(\"Alice\")\n"
   ]
  },
  {
   "cell_type": "markdown",
   "id": "0e312be3-e6e7-4d57-bc65-90264e6b0325",
   "metadata": {},
   "source": [
    "### Keyword Arguments\n",
    "Keyword arguments allow you to specify arguments by name."
   ]
  },
  {
   "cell_type": "code",
   "execution_count": 96,
   "id": "22452b6e-56f7-4b57-92a1-c5b67783f363",
   "metadata": {},
   "outputs": [
    {
     "name": "stdout",
     "output_type": "stream",
     "text": [
      "Bob is 25 years old and lives in New York.\n"
     ]
    }
   ],
   "source": [
    "\n",
    "# Define a function with keyword arguments\n",
    "function describe_person(name; age=30, city=\"Unknown\")\n",
    "    println(\"$name is $age years old and lives in $city.\")\n",
    "end\n",
    "\n",
    "# Call the function with keyword arguments\n",
    "describe_person(\"Bob\", age=25, city=\"New York\")\n"
   ]
  },
  {
   "cell_type": "markdown",
   "id": "f467e89e-d809-406c-9b3a-4bce97e348ed",
   "metadata": {},
   "source": [
    "### Default Arguments\n",
    "You can provide default values for function arguments."
   ]
  },
  {
   "cell_type": "code",
   "execution_count": 98,
   "id": "857eecd7-4893-429c-a840-3248f0f4ceab",
   "metadata": {},
   "outputs": [
    {
     "name": "stdout",
     "output_type": "stream",
     "text": [
      "Incremented value: 6\n",
      "Incremented value with step 2: 7\n"
     ]
    }
   ],
   "source": [
    "\n",
    "# Define a function with a default argument\n",
    "function increment(x, step=1)\n",
    "    return x + step\n",
    "end\n",
    "\n",
    "# Call the function without the default argument\n",
    "println(\"Incremented value: \", increment(5))\n",
    "\n",
    "# Call the function with the default argument\n",
    "println(\"Incremented value with step 2: \", increment(5, 2))\n"
   ]
  },
  {
   "cell_type": "markdown",
   "id": "20184dfe-7404-49bb-9483-7fc251d2b61b",
   "metadata": {},
   "source": [
    "## Return Values\n",
    "Functions in Julia return the last evaluated expression. You can also use the `return` keyword explicitly."
   ]
  },
  {
   "cell_type": "code",
   "execution_count": 100,
   "id": "d82c8730-f2b8-4291-819f-b72a949c06bf",
   "metadata": {},
   "outputs": [
    {
     "name": "stdout",
     "output_type": "stream",
     "text": [
      "Max value: 20\n"
     ]
    }
   ],
   "source": [
    "\n",
    "# Define a function to find the maximum of two numbers\n",
    "function max_value(a, b)\n",
    "    if a > b\n",
    "        return a\n",
    "    else\n",
    "        return b\n",
    "    end\n",
    "end\n",
    "\n",
    "# Call the function and print the result\n",
    "println(\"Max value: \", max_value(10, 20))\n"
   ]
  },
  {
   "cell_type": "markdown",
   "id": "e6b65a02-f8bd-4de6-be75-2f7ac0230eee",
   "metadata": {
    "tags": []
   },
   "source": [
    "## Anonymous Functions\n",
    "Anonymous functions are functions without a name. They are useful for short, one-time use functions."
   ]
  },
  {
   "cell_type": "code",
   "execution_count": 102,
   "id": "cbd527b5-d5a8-4973-82af-886540228f63",
   "metadata": {
    "jp-MarkdownHeadingCollapsed": true,
    "tags": []
   },
   "outputs": [
    {
     "name": "stdout",
     "output_type": "stream",
     "text": [
      "Square of 4: 16\n"
     ]
    }
   ],
   "source": [
    "\n",
    "# Define an anonymous function to square a number\n",
    "square = x -> x^2\n",
    "\n",
    "# Call the anonymous function\n",
    "println(\"Square of 4: \", square(4))\n"
   ]
  },
  {
   "cell_type": "markdown",
   "id": "f5aa0f03-d7be-4c9a-a0fb-67f03b6c233d",
   "metadata": {},
   "source": [
    "## Higher-Order Functions\n",
    "Higher-order functions are functions that take other functions as arguments or return functions.\n",
    "\n",
    "### Passing Functions as Arguments"
   ]
  },
  {
   "cell_type": "code",
   "execution_count": 104,
   "id": "e2378b9d-2808-42e1-b69f-96fe2a9fb4ee",
   "metadata": {},
   "outputs": [
    {
     "name": "stdout",
     "output_type": "stream",
     "text": [
      "Doubled array: [2, 4, 6, 8]\n"
     ]
    }
   ],
   "source": [
    "\n",
    "# Define a function that applies another function to an array\n",
    "function apply_function(arr, func)\n",
    "    return [func(x) for x in arr]\n",
    "end\n",
    "\n",
    "# Define a simple function to double a number\n",
    "double = x -> x * 2\n",
    "\n",
    "# Apply the function to an array\n",
    "result = apply_function([1, 2, 3, 4], double)\n",
    "println(\"Doubled array: \", result)\n"
   ]
  },
  {
   "cell_type": "markdown",
   "id": "1d05322a-afd5-40f2-a9ac-b1e03f9126f2",
   "metadata": {},
   "source": [
    "### Returning Functions"
   ]
  },
  {
   "cell_type": "code",
   "execution_count": 106,
   "id": "16894b9f-c83d-444a-89a2-9f399950c59a",
   "metadata": {},
   "outputs": [
    {
     "name": "stdout",
     "output_type": "stream",
     "text": [
      "3 times 5: 15\n"
     ]
    }
   ],
   "source": [
    "\n",
    "# Define a function that returns another function\n",
    "function make_multiplier(factor)\n",
    "    return x -> x * factor\n",
    "end\n",
    "\n",
    "# Create a multiplier function\n",
    "times_three = make_multiplier(3)\n",
    "\n",
    "# Use the returned function\n",
    "println(\"3 times 5: \", times_three(5))\n"
   ]
  },
  {
   "cell_type": "markdown",
   "id": "c274ddbe-df12-4e6a-9bc5-65bf1b4f3c71",
   "metadata": {},
   "source": [
    "## Broadcasting Functions\n",
    "Broadcasting allows you to apply a function to each element of an array or collection."
   ]
  },
  {
   "cell_type": "code",
   "execution_count": 110,
   "id": "c8eb328e-11fd-425e-96cb-51a6d6ee23b1",
   "metadata": {},
   "outputs": [
    {
     "name": "stdout",
     "output_type": "stream",
     "text": [
      "Incremented array: [2, 3, 4, 5, 6]\n"
     ]
    }
   ],
   "source": [
    "# Define a simple function to increment a number\n",
    "inc = x -> x + 1\n",
    "\n",
    "# Apply the function to each element of an array using broadcasting\n",
    "arr = [1, 2, 3, 4, 5]\n",
    "result = inc.(arr)\n",
    "println(\"Incremented array: \", result)\n"
   ]
  },
  {
   "cell_type": "markdown",
   "id": "cf446565-25b0-4ba0-9e3a-e16c3ad80ea0",
   "metadata": {},
   "source": [
    "## Conclusion\n",
    "In this chapter, we covered:\n",
    "- Defining functions using the `function` keyword and arrow notation.\n",
    "- Function arguments: positional, keyword, and default arguments.\n",
    "- Return values.\n",
    "- Anonymous functions.\n",
    "- Higher-order functions: passing functions as arguments and returning functions.\n",
    "- Broadcasting functions.\n",
    "\n",
    "Next, we will explore modules and packages in Julia.\n",
    "\n",
    "## Exercises\n",
    "Try these exercises to reinforce your understanding:\n",
    "1. Write a function that calculates the factorial of a number.\n",
    "2. Define a function that takes a list of numbers and returns a new list with each number squared.\n",
    "3. Create a higher-order function that takes a function and a number, and returns the result of applying the function three times to the number.\n",
    "4. Use broadcasting to apply a custom function to each element in an array.\n"
   ]
  }
 ],
 "metadata": {
  "kernelspec": {
   "display_name": "Julia 1.10.3",
   "language": "julia",
   "name": "julia-1.10"
  },
  "language_info": {
   "file_extension": ".jl",
   "mimetype": "application/julia",
   "name": "julia",
   "version": "1.10.3"
  },
  "toc-autonumbering": true
 },
 "nbformat": 4,
 "nbformat_minor": 5
}
